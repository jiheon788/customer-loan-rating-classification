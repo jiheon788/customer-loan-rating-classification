{
 "cells": [
  {
   "cell_type": "markdown",
   "id": "08fb3dc0-d978-4ee8-8683-e40883fd861c",
   "metadata": {
    "tags": []
   },
   "source": [
    "# 고객 대출등급 예측: Modeling"
   ]
  },
  {
   "cell_type": "code",
   "execution_count": 3,
   "id": "67967d0f-64c9-4c38-aead-e7fc5ccd1f86",
   "metadata": {
    "tags": []
   },
   "outputs": [],
   "source": [
    "import numpy as np\n",
    "import random\n",
    "import os\n",
    "import warnings\n",
    "warnings.filterwarnings('ignore')\n",
    "\n",
    "def seed_everything(seed):\n",
    "    random.seed(seed)\n",
    "    os.environ['PYTHONHASHSEED'] = str(seed)\n",
    "    np.random.seed(seed)\n",
    "\n",
    "seed_everything(42) # Seed 고정\n",
    "\n",
    "import pandas as pd\n",
    "\n",
    "# Load the dataset\n",
    "file_path = 'data/train.csv'\n",
    "data = pd.read_csv(file_path)"
   ]
  },
  {
   "cell_type": "markdown",
   "id": "20389a75-797a-4aa5-bdb8-9b8260110f86",
   "metadata": {},
   "source": [
    "## 데이터 전처리"
   ]
  },
  {
   "cell_type": "code",
   "execution_count": 5,
   "id": "47466906-1144-4b05-af5c-3ff4b5f418c4",
   "metadata": {
    "tags": []
   },
   "outputs": [
    {
     "data": {
      "text/plain": [
       "Series([], dtype: int64)"
      ]
     },
     "execution_count": 5,
     "metadata": {},
     "output_type": "execute_result"
    }
   ],
   "source": [
    "# 결측치 확인\n",
    "missing_values = data.isnull().sum()\n",
    "\n",
    "# 결측치가 있는 컬럼만 출력\n",
    "missing_values = missing_values[missing_values > 0]\n",
    "\n",
    "missing_values"
   ]
  },
  {
   "cell_type": "markdown",
   "id": "0d1410f9-8bca-48b9-889a-5c109c2bd1d4",
   "metadata": {},
   "source": [
    "#### Encoding"
   ]
  },
  {
   "cell_type": "code",
   "execution_count": 6,
   "id": "8747a342-35ef-44d9-b5bd-6696e6286219",
   "metadata": {
    "tags": []
   },
   "outputs": [
    {
     "data": {
      "text/plain": [
       "Index(['ID', '대출기간', '근로기간', '주택소유상태', '대출목적', '대출등급'], dtype='object')"
      ]
     },
     "execution_count": 6,
     "metadata": {},
     "output_type": "execute_result"
    }
   ],
   "source": [
    "# 범주형 변수 재확인\n",
    "categorical_columns = data.select_dtypes(include=['object']).columns\n",
    "\n",
    "# 범주형 변수 출력\n",
    "categorical_columns\n"
   ]
  },
  {
   "cell_type": "code",
   "execution_count": 7,
   "id": "e2a87a51-0fd1-4533-b7dd-53b4f3cc389a",
   "metadata": {
    "tags": []
   },
   "outputs": [
    {
     "data": {
      "text/html": [
       "<div>\n",
       "<style scoped>\n",
       "    .dataframe tbody tr th:only-of-type {\n",
       "        vertical-align: middle;\n",
       "    }\n",
       "\n",
       "    .dataframe tbody tr th {\n",
       "        vertical-align: top;\n",
       "    }\n",
       "\n",
       "    .dataframe thead th {\n",
       "        text-align: right;\n",
       "    }\n",
       "</style>\n",
       "<table border=\"1\" class=\"dataframe\">\n",
       "  <thead>\n",
       "    <tr style=\"text-align: right;\">\n",
       "      <th></th>\n",
       "      <th>ID</th>\n",
       "      <th>대출금액</th>\n",
       "      <th>연간소득</th>\n",
       "      <th>부채_대비_소득_비율</th>\n",
       "      <th>총계좌수</th>\n",
       "      <th>최근_2년간_연체_횟수</th>\n",
       "      <th>총상환원금</th>\n",
       "      <th>총상환이자</th>\n",
       "      <th>총연체금액</th>\n",
       "      <th>연체계좌수</th>\n",
       "      <th>...</th>\n",
       "      <th>24</th>\n",
       "      <th>25</th>\n",
       "      <th>26</th>\n",
       "      <th>27</th>\n",
       "      <th>28</th>\n",
       "      <th>29</th>\n",
       "      <th>30</th>\n",
       "      <th>31</th>\n",
       "      <th>32</th>\n",
       "      <th>33</th>\n",
       "    </tr>\n",
       "  </thead>\n",
       "  <tbody>\n",
       "    <tr>\n",
       "      <th>0</th>\n",
       "      <td>TRAIN_00000</td>\n",
       "      <td>12480000</td>\n",
       "      <td>72000000</td>\n",
       "      <td>18.90</td>\n",
       "      <td>15</td>\n",
       "      <td>0</td>\n",
       "      <td>0</td>\n",
       "      <td>0.0</td>\n",
       "      <td>0.0</td>\n",
       "      <td>0.0</td>\n",
       "      <td>...</td>\n",
       "      <td>0.0</td>\n",
       "      <td>0.0</td>\n",
       "      <td>0.0</td>\n",
       "      <td>0.0</td>\n",
       "      <td>0.0</td>\n",
       "      <td>0.0</td>\n",
       "      <td>0.0</td>\n",
       "      <td>0.0</td>\n",
       "      <td>0.0</td>\n",
       "      <td>0.0</td>\n",
       "    </tr>\n",
       "    <tr>\n",
       "      <th>1</th>\n",
       "      <td>TRAIN_00001</td>\n",
       "      <td>14400000</td>\n",
       "      <td>130800000</td>\n",
       "      <td>22.33</td>\n",
       "      <td>21</td>\n",
       "      <td>0</td>\n",
       "      <td>373572</td>\n",
       "      <td>234060.0</td>\n",
       "      <td>0.0</td>\n",
       "      <td>0.0</td>\n",
       "      <td>...</td>\n",
       "      <td>0.0</td>\n",
       "      <td>0.0</td>\n",
       "      <td>0.0</td>\n",
       "      <td>0.0</td>\n",
       "      <td>0.0</td>\n",
       "      <td>0.0</td>\n",
       "      <td>0.0</td>\n",
       "      <td>0.0</td>\n",
       "      <td>1.0</td>\n",
       "      <td>0.0</td>\n",
       "    </tr>\n",
       "    <tr>\n",
       "      <th>2</th>\n",
       "      <td>TRAIN_00002</td>\n",
       "      <td>12000000</td>\n",
       "      <td>96000000</td>\n",
       "      <td>8.60</td>\n",
       "      <td>14</td>\n",
       "      <td>0</td>\n",
       "      <td>928644</td>\n",
       "      <td>151944.0</td>\n",
       "      <td>0.0</td>\n",
       "      <td>0.0</td>\n",
       "      <td>...</td>\n",
       "      <td>0.0</td>\n",
       "      <td>0.0</td>\n",
       "      <td>0.0</td>\n",
       "      <td>0.0</td>\n",
       "      <td>0.0</td>\n",
       "      <td>0.0</td>\n",
       "      <td>0.0</td>\n",
       "      <td>0.0</td>\n",
       "      <td>0.0</td>\n",
       "      <td>0.0</td>\n",
       "    </tr>\n",
       "    <tr>\n",
       "      <th>3</th>\n",
       "      <td>TRAIN_00003</td>\n",
       "      <td>14400000</td>\n",
       "      <td>132000000</td>\n",
       "      <td>15.09</td>\n",
       "      <td>15</td>\n",
       "      <td>0</td>\n",
       "      <td>325824</td>\n",
       "      <td>153108.0</td>\n",
       "      <td>0.0</td>\n",
       "      <td>0.0</td>\n",
       "      <td>...</td>\n",
       "      <td>0.0</td>\n",
       "      <td>0.0</td>\n",
       "      <td>0.0</td>\n",
       "      <td>0.0</td>\n",
       "      <td>0.0</td>\n",
       "      <td>0.0</td>\n",
       "      <td>0.0</td>\n",
       "      <td>0.0</td>\n",
       "      <td>0.0</td>\n",
       "      <td>0.0</td>\n",
       "    </tr>\n",
       "    <tr>\n",
       "      <th>4</th>\n",
       "      <td>TRAIN_00004</td>\n",
       "      <td>18000000</td>\n",
       "      <td>71736000</td>\n",
       "      <td>25.39</td>\n",
       "      <td>19</td>\n",
       "      <td>0</td>\n",
       "      <td>228540</td>\n",
       "      <td>148956.0</td>\n",
       "      <td>0.0</td>\n",
       "      <td>0.0</td>\n",
       "      <td>...</td>\n",
       "      <td>0.0</td>\n",
       "      <td>0.0</td>\n",
       "      <td>0.0</td>\n",
       "      <td>0.0</td>\n",
       "      <td>0.0</td>\n",
       "      <td>0.0</td>\n",
       "      <td>1.0</td>\n",
       "      <td>0.0</td>\n",
       "      <td>0.0</td>\n",
       "      <td>0.0</td>\n",
       "    </tr>\n",
       "  </tbody>\n",
       "</table>\n",
       "<p>5 rows × 45 columns</p>\n",
       "</div>"
      ],
      "text/plain": [
       "            ID      대출금액       연간소득  부채_대비_소득_비율  총계좌수  최근_2년간_연체_횟수   총상환원금  \\\n",
       "0  TRAIN_00000  12480000   72000000        18.90    15             0       0   \n",
       "1  TRAIN_00001  14400000  130800000        22.33    21             0  373572   \n",
       "2  TRAIN_00002  12000000   96000000         8.60    14             0  928644   \n",
       "3  TRAIN_00003  14400000  132000000        15.09    15             0  325824   \n",
       "4  TRAIN_00004  18000000   71736000        25.39    19             0  228540   \n",
       "\n",
       "      총상환이자  총연체금액  연체계좌수  ...   24   25   26   27   28   29   30   31   32  \\\n",
       "0       0.0    0.0    0.0  ...  0.0  0.0  0.0  0.0  0.0  0.0  0.0  0.0  0.0   \n",
       "1  234060.0    0.0    0.0  ...  0.0  0.0  0.0  0.0  0.0  0.0  0.0  0.0  1.0   \n",
       "2  151944.0    0.0    0.0  ...  0.0  0.0  0.0  0.0  0.0  0.0  0.0  0.0  0.0   \n",
       "3  153108.0    0.0    0.0  ...  0.0  0.0  0.0  0.0  0.0  0.0  0.0  0.0  0.0   \n",
       "4  148956.0    0.0    0.0  ...  0.0  0.0  0.0  0.0  0.0  0.0  1.0  0.0  0.0   \n",
       "\n",
       "    33  \n",
       "0  0.0  \n",
       "1  0.0  \n",
       "2  0.0  \n",
       "3  0.0  \n",
       "4  0.0  \n",
       "\n",
       "[5 rows x 45 columns]"
      ]
     },
     "execution_count": 7,
     "metadata": {},
     "output_type": "execute_result"
    }
   ],
   "source": [
    "from sklearn.preprocessing import OneHotEncoder, LabelEncoder\n",
    "\n",
    "# One-Hot Encoder 생성\n",
    "onehot_encoder = OneHotEncoder()\n",
    "\n",
    "# Label Encoder 생성\n",
    "label_encoder = LabelEncoder()\n",
    "\n",
    "# One-Hot Encoding 적용할 범주형 변수 선택 (ID 제외)\n",
    "onehot_columns = ['대출기간', '근로기간', '주택소유상태', '대출목적']\n",
    "data_onehot = pd.DataFrame(onehot_encoder.fit_transform(data[onehot_columns]).toarray())\n",
    "\n",
    "# Label Encoding 적용 (대출등급)\n",
    "data['대출등급_encoded'] = label_encoder.fit_transform(data['대출등급'])\n",
    "\n",
    "# 인코딩된 데이터와 기존 데이터 합치기\n",
    "data_encoded = pd.concat([data, data_onehot], axis=1)\n",
    "\n",
    "# 원본 범주형 변수 제거\n",
    "data_encoded.drop(onehot_columns + ['대출등급'], axis=1, inplace=True)\n",
    "\n",
    "data_encoded.head()\n"
   ]
  },
  {
   "cell_type": "markdown",
   "id": "247f026d-c7b8-4f5b-9457-26092375301b",
   "metadata": {},
   "source": [
    "#### Scaling"
   ]
  },
  {
   "cell_type": "code",
   "execution_count": 9,
   "id": "be693825-59db-4dce-8219-f891c052e5eb",
   "metadata": {
    "tags": []
   },
   "outputs": [
    {
     "data": {
      "text/html": [
       "<div>\n",
       "<style scoped>\n",
       "    .dataframe tbody tr th:only-of-type {\n",
       "        vertical-align: middle;\n",
       "    }\n",
       "\n",
       "    .dataframe tbody tr th {\n",
       "        vertical-align: top;\n",
       "    }\n",
       "\n",
       "    .dataframe thead th {\n",
       "        text-align: right;\n",
       "    }\n",
       "</style>\n",
       "<table border=\"1\" class=\"dataframe\">\n",
       "  <thead>\n",
       "    <tr style=\"text-align: right;\">\n",
       "      <th></th>\n",
       "      <th>ID</th>\n",
       "      <th>대출금액</th>\n",
       "      <th>연간소득</th>\n",
       "      <th>부채_대비_소득_비율</th>\n",
       "      <th>총계좌수</th>\n",
       "      <th>최근_2년간_연체_횟수</th>\n",
       "      <th>총상환원금</th>\n",
       "      <th>총상환이자</th>\n",
       "      <th>총연체금액</th>\n",
       "      <th>연체계좌수</th>\n",
       "      <th>...</th>\n",
       "      <th>24</th>\n",
       "      <th>25</th>\n",
       "      <th>26</th>\n",
       "      <th>27</th>\n",
       "      <th>28</th>\n",
       "      <th>29</th>\n",
       "      <th>30</th>\n",
       "      <th>31</th>\n",
       "      <th>32</th>\n",
       "      <th>33</th>\n",
       "    </tr>\n",
       "  </thead>\n",
       "  <tbody>\n",
       "    <tr>\n",
       "      <th>0</th>\n",
       "      <td>TRAIN_00000</td>\n",
       "      <td>-0.563848</td>\n",
       "      <td>-0.220218</td>\n",
       "      <td>-0.014287</td>\n",
       "      <td>-0.852449</td>\n",
       "      <td>-0.376102</td>\n",
       "      <td>-0.800303</td>\n",
       "      <td>-0.972784</td>\n",
       "      <td>-0.038438</td>\n",
       "      <td>-0.072595</td>\n",
       "      <td>...</td>\n",
       "      <td>0.0</td>\n",
       "      <td>0.0</td>\n",
       "      <td>0.0</td>\n",
       "      <td>0.0</td>\n",
       "      <td>0.0</td>\n",
       "      <td>0.0</td>\n",
       "      <td>0.0</td>\n",
       "      <td>0.0</td>\n",
       "      <td>0.0</td>\n",
       "      <td>0.0</td>\n",
       "    </tr>\n",
       "    <tr>\n",
       "      <th>1</th>\n",
       "      <td>TRAIN_00001</td>\n",
       "      <td>-0.377964</td>\n",
       "      <td>0.370332</td>\n",
       "      <td>0.087890</td>\n",
       "      <td>-0.356109</td>\n",
       "      <td>-0.376102</td>\n",
       "      <td>-0.436814</td>\n",
       "      <td>-0.441082</td>\n",
       "      <td>-0.038438</td>\n",
       "      <td>-0.072595</td>\n",
       "      <td>...</td>\n",
       "      <td>0.0</td>\n",
       "      <td>0.0</td>\n",
       "      <td>0.0</td>\n",
       "      <td>0.0</td>\n",
       "      <td>0.0</td>\n",
       "      <td>0.0</td>\n",
       "      <td>0.0</td>\n",
       "      <td>0.0</td>\n",
       "      <td>1.0</td>\n",
       "      <td>0.0</td>\n",
       "    </tr>\n",
       "    <tr>\n",
       "      <th>2</th>\n",
       "      <td>TRAIN_00002</td>\n",
       "      <td>-0.610319</td>\n",
       "      <td>0.020823</td>\n",
       "      <td>-0.321114</td>\n",
       "      <td>-0.935172</td>\n",
       "      <td>-0.376102</td>\n",
       "      <td>0.103276</td>\n",
       "      <td>-0.627621</td>\n",
       "      <td>-0.038438</td>\n",
       "      <td>-0.072595</td>\n",
       "      <td>...</td>\n",
       "      <td>0.0</td>\n",
       "      <td>0.0</td>\n",
       "      <td>0.0</td>\n",
       "      <td>0.0</td>\n",
       "      <td>0.0</td>\n",
       "      <td>0.0</td>\n",
       "      <td>0.0</td>\n",
       "      <td>0.0</td>\n",
       "      <td>0.0</td>\n",
       "      <td>0.0</td>\n",
       "    </tr>\n",
       "    <tr>\n",
       "      <th>3</th>\n",
       "      <td>TRAIN_00003</td>\n",
       "      <td>-0.377964</td>\n",
       "      <td>0.382384</td>\n",
       "      <td>-0.127783</td>\n",
       "      <td>-0.852449</td>\n",
       "      <td>-0.376102</td>\n",
       "      <td>-0.483274</td>\n",
       "      <td>-0.624977</td>\n",
       "      <td>-0.038438</td>\n",
       "      <td>-0.072595</td>\n",
       "      <td>...</td>\n",
       "      <td>0.0</td>\n",
       "      <td>0.0</td>\n",
       "      <td>0.0</td>\n",
       "      <td>0.0</td>\n",
       "      <td>0.0</td>\n",
       "      <td>0.0</td>\n",
       "      <td>0.0</td>\n",
       "      <td>0.0</td>\n",
       "      <td>0.0</td>\n",
       "      <td>0.0</td>\n",
       "    </tr>\n",
       "    <tr>\n",
       "      <th>4</th>\n",
       "      <td>TRAIN_00004</td>\n",
       "      <td>-0.029431</td>\n",
       "      <td>-0.222870</td>\n",
       "      <td>0.179044</td>\n",
       "      <td>-0.521556</td>\n",
       "      <td>-0.376102</td>\n",
       "      <td>-0.577932</td>\n",
       "      <td>-0.634409</td>\n",
       "      <td>-0.038438</td>\n",
       "      <td>-0.072595</td>\n",
       "      <td>...</td>\n",
       "      <td>0.0</td>\n",
       "      <td>0.0</td>\n",
       "      <td>0.0</td>\n",
       "      <td>0.0</td>\n",
       "      <td>0.0</td>\n",
       "      <td>0.0</td>\n",
       "      <td>1.0</td>\n",
       "      <td>0.0</td>\n",
       "      <td>0.0</td>\n",
       "      <td>0.0</td>\n",
       "    </tr>\n",
       "  </tbody>\n",
       "</table>\n",
       "<p>5 rows × 45 columns</p>\n",
       "</div>"
      ],
      "text/plain": [
       "            ID      대출금액      연간소득  부채_대비_소득_비율      총계좌수  최근_2년간_연체_횟수  \\\n",
       "0  TRAIN_00000 -0.563848 -0.220218    -0.014287 -0.852449     -0.376102   \n",
       "1  TRAIN_00001 -0.377964  0.370332     0.087890 -0.356109     -0.376102   \n",
       "2  TRAIN_00002 -0.610319  0.020823    -0.321114 -0.935172     -0.376102   \n",
       "3  TRAIN_00003 -0.377964  0.382384    -0.127783 -0.852449     -0.376102   \n",
       "4  TRAIN_00004 -0.029431 -0.222870     0.179044 -0.521556     -0.376102   \n",
       "\n",
       "      총상환원금     총상환이자     총연체금액     연체계좌수  ...   24   25   26   27   28   29  \\\n",
       "0 -0.800303 -0.972784 -0.038438 -0.072595  ...  0.0  0.0  0.0  0.0  0.0  0.0   \n",
       "1 -0.436814 -0.441082 -0.038438 -0.072595  ...  0.0  0.0  0.0  0.0  0.0  0.0   \n",
       "2  0.103276 -0.627621 -0.038438 -0.072595  ...  0.0  0.0  0.0  0.0  0.0  0.0   \n",
       "3 -0.483274 -0.624977 -0.038438 -0.072595  ...  0.0  0.0  0.0  0.0  0.0  0.0   \n",
       "4 -0.577932 -0.634409 -0.038438 -0.072595  ...  0.0  0.0  0.0  0.0  0.0  0.0   \n",
       "\n",
       "    30   31   32   33  \n",
       "0  0.0  0.0  0.0  0.0  \n",
       "1  0.0  0.0  1.0  0.0  \n",
       "2  0.0  0.0  0.0  0.0  \n",
       "3  0.0  0.0  0.0  0.0  \n",
       "4  1.0  0.0  0.0  0.0  \n",
       "\n",
       "[5 rows x 45 columns]"
      ]
     },
     "execution_count": 9,
     "metadata": {},
     "output_type": "execute_result"
    }
   ],
   "source": [
    "# 수치형 변수 재확인 (ID와 인코딩된 대출등급 제외)\n",
    "numerical_columns_for_scaling = ['대출금액', '연간소득', '부채_대비_소득_비율', '총계좌수', '최근_2년간_연체_횟수', '총상환원금', '총상환이자', '총연체금액', '연체계좌수']\n",
    "\n",
    "# Standard Scaling 적용\n",
    "data_encoded[numerical_columns_for_scaling] = scaler.fit_transform(data_encoded[numerical_columns_for_scaling])\n",
    "\n",
    "# 스케일링 후 데이터 확인\n",
    "data_encoded.head()"
   ]
  },
  {
   "cell_type": "markdown",
   "id": "2f312613-274b-420f-95cd-86582eb611a0",
   "metadata": {},
   "source": [
    "## Modeling 1 : Random Forest"
   ]
  },
  {
   "cell_type": "code",
   "execution_count": 16,
   "id": "77c90709-c04e-4e82-b942-ee3212ce9130",
   "metadata": {
    "tags": []
   },
   "outputs": [
    {
     "data": {
      "text/plain": [
       "(1.0, 0.5567505123735182)"
      ]
     },
     "execution_count": 16,
     "metadata": {},
     "output_type": "execute_result"
    }
   ],
   "source": [
    "# 데이터 전처리 및 분할\n",
    "X = data_encoded.drop(['ID', '대출등급_encoded'], axis=1)\n",
    "y = data_encoded['대출등급_encoded']\n",
    "X_train, X_test, y_train, y_test = train_test_split(X, y, test_size=0.3, random_state=42)\n",
    "\n",
    "# 모든 열 이름을 문자열로 변환\n",
    "X_train.columns = X_train.columns.astype(str)\n",
    "X_test.columns = X_test.columns.astype(str)\n",
    "\n",
    "# 랜덤 포레스트 분류기 훈련\n",
    "rf_classifier = RandomForestClassifier(random_state=42)\n",
    "rf_classifier.fit(X_train, y_train)\n",
    "\n",
    "# 훈련 세트에서의 성능 평가\n",
    "training_score = rf_classifier.score(X_train, y_train)\n",
    "\n",
    "# 테스트 세트에서의 성능 평가\n",
    "y_pred = rf_classifier.predict(X_test)\n",
    "f1_test = f1_score(y_test, y_pred, average='macro')\n",
    "\n",
    "training_score, f1_test\n"
   ]
  },
  {
   "cell_type": "markdown",
   "id": "4086d2f4-f4bf-4007-bbc0-e9dffce987f7",
   "metadata": {},
   "source": [
    "#### Hyper Parameters Tuning"
   ]
  },
  {
   "cell_type": "code",
   "execution_count": 17,
   "id": "c4ae3639-56bf-4df1-b592-5bd7bf2e6f8a",
   "metadata": {
    "tags": []
   },
   "outputs": [
    {
     "name": "stdout",
     "output_type": "stream",
     "text": [
      "Fitting 3 folds for each of 81 candidates, totalling 243 fits\n"
     ]
    },
    {
     "data": {
      "text/plain": [
       "({'max_depth': 30,\n",
       "  'min_samples_leaf': 1,\n",
       "  'min_samples_split': 2,\n",
       "  'n_estimators': 200},\n",
       " 0.5224301306758062)"
      ]
     },
     "execution_count": 17,
     "metadata": {},
     "output_type": "execute_result"
    }
   ],
   "source": [
    "from sklearn.model_selection import GridSearchCV\n",
    "\n",
    "# 튜닝할 하이퍼파라미터 설정\n",
    "param_grid = {\n",
    "    'n_estimators': [100, 200, 300],\n",
    "    'max_depth': [10, 20, 30],\n",
    "    'min_samples_split': [2, 5, 10],\n",
    "    'min_samples_leaf': [1, 2, 4]\n",
    "}\n",
    "\n",
    "# GridSearchCV 설정\n",
    "grid_search = GridSearchCV(estimator=rf_classifier, param_grid=param_grid, cv=3, n_jobs=-1, verbose=2, scoring='f1_macro')\n",
    "\n",
    "# GridSearchCV를 사용한 훈련\n",
    "grid_search.fit(X_train, y_train)\n",
    "\n",
    "# 최적의 파라미터와 그 때의 성능\n",
    "best_params = grid_search.best_params_\n",
    "best_score = grid_search.best_score_\n",
    "\n",
    "best_params, best_score"
   ]
  },
  {
   "cell_type": "code",
   "execution_count": 18,
   "id": "a2064dcf-610a-46cd-bcb7-4e885778c2af",
   "metadata": {
    "tags": []
   },
   "outputs": [
    {
     "data": {
      "text/plain": [
       "0.5556508176994651"
      ]
     },
     "execution_count": 18,
     "metadata": {},
     "output_type": "execute_result"
    }
   ],
   "source": [
    "# 최적의 하이퍼파라미터로 랜덤 포레스트 분류기 재구성\n",
    "rf_classifier_optimized = RandomForestClassifier(\n",
    "    n_estimators=200, \n",
    "    max_depth=30, \n",
    "    min_samples_split=2, \n",
    "    min_samples_leaf=1, \n",
    "    random_state=42\n",
    ")\n",
    "\n",
    "# 최적화된 모델 훈련\n",
    "rf_classifier_optimized.fit(X_train, y_train)\n",
    "\n",
    "# 테스트 세트에서 예측\n",
    "y_pred_optimized = rf_classifier_optimized.predict(X_test)\n",
    "\n",
    "# 최적화된 모델의 성능 평가 (Macro F1-Score)\n",
    "f1_test_optimized = f1_score(y_test, y_pred_optimized, average='macro')\n",
    "f1_test_optimized"
   ]
  }
 ],
 "metadata": {
  "kernelspec": {
   "display_name": "Python 3 (ipykernel)",
   "language": "python",
   "name": "python3"
  },
  "language_info": {
   "codemirror_mode": {
    "name": "ipython",
    "version": 3
   },
   "file_extension": ".py",
   "mimetype": "text/x-python",
   "name": "python",
   "nbconvert_exporter": "python",
   "pygments_lexer": "ipython3",
   "version": "3.11.5"
  }
 },
 "nbformat": 4,
 "nbformat_minor": 5
}
